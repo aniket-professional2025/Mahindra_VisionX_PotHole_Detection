{
 "cells": [
  {
   "cell_type": "markdown",
   "id": "55b4a59e-c351-4a82-8cfd-7ef2109833a3",
   "metadata": {},
   "source": [
    "# Importing Required Packages"
   ]
  },
  {
   "cell_type": "code",
   "execution_count": 2,
   "id": "d96627f4-2eec-4838-9b16-f74052796ab0",
   "metadata": {},
   "outputs": [],
   "source": [
    "import os\n",
    "import glob\n",
    "from IPython.display import Image, display\n",
    "import ultralytics\n",
    "from roboflow import Roboflow\n",
    "import warnings\n",
    "warnings.filterwarnings('ignore')"
   ]
  },
  {
   "cell_type": "markdown",
   "id": "026a0b27-2a71-4827-bb04-a8b7e65cc347",
   "metadata": {},
   "source": [
    "# Installing All Required Packages"
   ]
  },
  {
   "cell_type": "code",
   "execution_count": 4,
   "id": "eac9fef1-8ebf-485f-a667-0e11dab9b46c",
   "metadata": {},
   "outputs": [
    {
     "name": "stderr",
     "output_type": "stream",
     "text": [
      "\n",
      "[notice] A new release of pip is available: 25.0.1 -> 25.2\n",
      "[notice] To update, run: python.exe -m pip install --upgrade pip\n"
     ]
    }
   ],
   "source": [
    "!pip install -q ultralytics roboflow fastapi kaleido python_multipart uvicorn"
   ]
  },
  {
   "cell_type": "markdown",
   "id": "a0fe2c5b-fd94-42dc-8f8b-82522690d330",
   "metadata": {},
   "source": [
    "# Check for GPU Availability"
   ]
  },
  {
   "cell_type": "code",
   "execution_count": 6,
   "id": "3ad7ba9b-3a47-4bdc-80df-4c64c0d502a6",
   "metadata": {},
   "outputs": [
    {
     "name": "stdout",
     "output_type": "stream",
     "text": [
      "Mon Aug 11 13:28:08 2025       \n",
      "+-----------------------------------------------------------------------------------------+\n",
      "| NVIDIA-SMI 566.43                 Driver Version: 566.43         CUDA Version: 12.7     |\n",
      "|-----------------------------------------+------------------------+----------------------+\n",
      "| GPU  Name                  Driver-Model | Bus-Id          Disp.A | Volatile Uncorr. ECC |\n",
      "| Fan  Temp   Perf          Pwr:Usage/Cap |           Memory-Usage | GPU-Util  Compute M. |\n",
      "|                                         |                        |               MIG M. |\n",
      "|=========================================+========================+======================|\n",
      "|   0  NVIDIA GeForce RTX 3050 ...  WDDM  |   00000000:01:00.0 Off |                  N/A |\n",
      "| N/A   43C    P8              3W /   67W |       0MiB /   6144MiB |      0%      Default |\n",
      "|                                         |                        |                  N/A |\n",
      "+-----------------------------------------+------------------------+----------------------+\n",
      "                                                                                         \n",
      "+-----------------------------------------------------------------------------------------+\n",
      "| Processes:                                                                              |\n",
      "|  GPU   GI   CI        PID   Type   Process name                              GPU Memory |\n",
      "|        ID   ID                                                               Usage      |\n",
      "|=========================================================================================|\n",
      "|    0   N/A  N/A      2164    C+G   ...CBS_cw5n1h2txyewy\\TextInputHost.exe      N/A      |\n",
      "|    0   N/A  N/A     17272    C+G   C:\\Windows\\explorer.exe                     N/A      |\n",
      "+-----------------------------------------------------------------------------------------+\n"
     ]
    }
   ],
   "source": [
    "!nvidia-smi"
   ]
  },
  {
   "cell_type": "markdown",
   "id": "20d4fa77-99e5-4fe5-bb4d-0699f39019b4",
   "metadata": {},
   "source": [
    "# Setting the HOME directory for this project"
   ]
  },
  {
   "cell_type": "code",
   "execution_count": 8,
   "id": "0ccec2c1-a171-413a-8778-00da57188dda",
   "metadata": {},
   "outputs": [
    {
     "name": "stdout",
     "output_type": "stream",
     "text": [
      "C:\\Users\\Webbies\\Jupyter_Notebooks\\Mahindra_VisionX\n"
     ]
    }
   ],
   "source": [
    "HOME = os.getcwd()\n",
    "print(HOME)"
   ]
  },
  {
   "cell_type": "markdown",
   "id": "6dbc555e-86db-45c3-abda-faee7605eb34",
   "metadata": {},
   "source": [
    "# Check for Ultralytics Dependency"
   ]
  },
  {
   "cell_type": "code",
   "execution_count": 10,
   "id": "a20d2269-fd4e-4f38-8c2c-5032eaee1031",
   "metadata": {},
   "outputs": [
    {
     "name": "stdout",
     "output_type": "stream",
     "text": [
      "Ultralytics 8.3.107  Python-3.12.7 torch-2.4.1+cu124 CUDA:0 (NVIDIA GeForce RTX 3050 6GB Laptop GPU, 6144MiB)\n",
      "Setup complete  (16 CPUs, 15.3 GB RAM, 629.6/952.7 GB disk)\n"
     ]
    }
   ],
   "source": [
    "ultralytics.checks()"
   ]
  },
  {
   "cell_type": "markdown",
   "id": "006e3389-52d3-4d75-8a47-d47c7d5a9e8c",
   "metadata": {},
   "source": [
    "# Create a directory to store the data"
   ]
  },
  {
   "cell_type": "code",
   "execution_count": 12,
   "id": "b0586f00-d7e1-4403-b74b-4cb57803094a",
   "metadata": {},
   "outputs": [],
   "source": [
    "os.makedirs('datasets', exist_ok=True)"
   ]
  },
  {
   "cell_type": "markdown",
   "id": "1db1d142-1058-46ac-8613-f25a71ee231a",
   "metadata": {},
   "source": [
    "# Setting the RoboFlow API key"
   ]
  },
  {
   "cell_type": "code",
   "execution_count": 14,
   "id": "86a0f837-2251-4e27-94b3-e331266453ff",
   "metadata": {},
   "outputs": [],
   "source": [
    "rf = Roboflow(api_key = \"NqicMLRLoejDf6ellOkN\")"
   ]
  },
  {
   "cell_type": "markdown",
   "id": "530cad2f-b7f3-424a-b12e-cfe4677f9fb9",
   "metadata": {},
   "source": [
    "# Runing the YOLOv8 Model in Train Mode on the data"
   ]
  },
  {
   "cell_type": "code",
   "execution_count": 34,
   "id": "977cd275-aa22-4a37-a906-e40c5a8d83cd",
   "metadata": {},
   "outputs": [
    {
     "name": "stdout",
     "output_type": "stream",
     "text": [
      "env: KMP_DUPLICATE_LIB_OK=TRUE\n",
      "^C\n"
     ]
    }
   ],
   "source": [
    "%env KMP_DUPLICATE_LIB_OK=TRUE\n",
    "!yolo task = detect mode = train model = yolov8m.pt data = \"C:\\Users\\Webbies\\Jupyter_Notebooks\\Mahindra_VisionX\\datasets\\data.yaml\" epochs = 70 imgsz = 640 workers = 0"
   ]
  },
  {
   "cell_type": "code",
   "execution_count": null,
   "id": "b9c622ca-2c72-4e6f-a90c-6280d7645572",
   "metadata": {},
   "outputs": [],
   "source": []
  }
 ],
 "metadata": {
  "kernelspec": {
   "display_name": "Python [conda env:base] *",
   "language": "python",
   "name": "conda-base-py"
  },
  "language_info": {
   "codemirror_mode": {
    "name": "ipython",
    "version": 3
   },
   "file_extension": ".py",
   "mimetype": "text/x-python",
   "name": "python",
   "nbconvert_exporter": "python",
   "pygments_lexer": "ipython3",
   "version": "3.12.7"
  }
 },
 "nbformat": 4,
 "nbformat_minor": 5
}
